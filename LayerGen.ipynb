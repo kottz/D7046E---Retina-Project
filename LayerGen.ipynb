{
  "nbformat": 4,
  "nbformat_minor": 0,
  "metadata": {
    "colab": {
      "name": "Untitled0.ipynb",
      "provenance": [],
      "authorship_tag": "ABX9TyPC6rxRNcc1z4KCquajJ4Rg",
      "include_colab_link": true
    },
    "kernelspec": {
      "name": "python3",
      "display_name": "Python 3"
    }
  },
  "cells": [
    {
      "cell_type": "markdown",
      "metadata": {
        "id": "view-in-github",
        "colab_type": "text"
      },
      "source": [
        "<a href=\"https://colab.research.google.com/github/kottz/D7046E-retina/blob/main/LayerGen.ipynb\" target=\"_parent\"><img src=\"https://colab.research.google.com/assets/colab-badge.svg\" alt=\"Open In Colab\"/></a>"
      ]
    },
    {
      "cell_type": "markdown",
      "metadata": {
        "id": "Tp0X8_tPrJjZ"
      },
      "source": [
        "**Layer generation function**"
      ]
    },
    {
      "cell_type": "code",
      "metadata": {
        "id": "hXktHpLfrH2e"
      },
      "source": [
        "def network_gen(nr_of_neurons):\n",
        "\n",
        "    layer1 = []\n",
        "    layer2 = []\n",
        "    layer3 = []\n",
        "    layer4 = [lif_neuron(nr_of_neurons-1), lif_neuron(nr_of_neurons-1)]\n",
        "\n",
        "    for number in list(range(0,nr_of_neurons)):\n",
        "        layer1.append(spike_generator(spikes[number]))\n",
        "\n",
        "    for number in list(range(0,(nr_of_neurons-1)*2)):\n",
        "        layer2.append(lif_neuron(2))\n",
        "        layer3.append(lif_neuron(2))\n",
        "\n",
        "    return layer1, layer2, layer3, layer4"
      ],
      "execution_count": 1,
      "outputs": []
    }
  ]
}