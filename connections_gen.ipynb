{
  "nbformat": 4,
  "nbformat_minor": 0,
  "metadata": {
    "colab": {
      "name": "Untitled1.ipynb",
      "provenance": [],
      "authorship_tag": "ABX9TyNEFFAm1d6EPT98YumQ1AVc",
      "include_colab_link": true
    },
    "kernelspec": {
      "name": "python3",
      "display_name": "Python 3"
    }
  },
  "cells": [
    {
      "cell_type": "markdown",
      "metadata": {
        "id": "view-in-github",
        "colab_type": "text"
      },
      "source": [
        "<a href=\"https://colab.research.google.com/github/kottz/D7046E-retina/blob/main/connections_gen.ipynb\" target=\"_parent\"><img src=\"https://colab.research.google.com/assets/colab-badge.svg\" alt=\"Open In Colab\"/></a>"
      ]
    },
    {
      "cell_type": "code",
      "metadata": {
        "id": "pecDhCxPVri9",
        "colab": {
          "base_uri": "https://localhost:8080/"
        },
        "outputId": "bf400450-85c8-408f-82aa-a337f4642047"
      },
      "source": [
        "def connections_gen(nr_of_neurons):\n",
        "    connections = []\n",
        "    for i in range(0,nr_of_neurons-1):\n",
        "      #print(i)\n",
        "      #Left\n",
        "      connections.append([nr_of_neurons+i,0,i])\n",
        "      connections.append([nr_of_neurons*2-1+i,0,nr_of_neurons+i])\n",
        "      connections.append([nr_of_neurons*2-1+i,1,1+i])\n",
        "      connections.append([(nr_of_neurons-1)*3+1,i,nr_of_neurons*2-1+i])\n",
        "      # Right\n",
        "      connections.append([(nr_of_neurons-1)*3+2+i,0,1+i])\n",
        "      connections.append([(nr_of_neurons-1)*4+2+i,0,(nr_of_neurons-1)*3+2+i])\n",
        "      connections.append([(nr_of_neurons-1)*4+2+i,1,i])\n",
        "      connections.append([(nr_of_neurons-1)*5+2,i,(nr_of_neurons-1)*4+2+i])\n",
        "      \n",
        "    return connections\n",
        "\n",
        "connections = network_gen(5)\n",
        "print(connections)"
      ],
      "execution_count": null,
      "outputs": [
        {
          "output_type": "stream",
          "text": [
            "[[5, 0, 0], [9, 0, 5], [9, 1, 1], [13, 0, 9], [14, 0, 1], [18, 0, 14], [18, 1, 0], [22, 0, 18], [6, 0, 1], [10, 0, 6], [10, 1, 2], [13, 1, 10], [15, 0, 2], [19, 0, 15], [19, 1, 1], [22, 1, 19], [7, 0, 2], [11, 0, 7], [11, 1, 3], [13, 2, 11], [16, 0, 3], [20, 0, 16], [20, 1, 2], [22, 2, 20], [8, 0, 3], [12, 0, 8], [12, 1, 4], [13, 3, 12], [17, 0, 4], [21, 0, 17], [21, 1, 3], [22, 3, 21]]\n"
          ],
          "name": "stdout"
        }
      ]
    }
  ]
}